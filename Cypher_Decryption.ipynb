{
  "nbformat": 4,
  "nbformat_minor": 0,
  "metadata": {
    "colab": {
      "provenance": []
    },
    "kernelspec": {
      "name": "python3",
      "display_name": "Python 3"
    },
    "language_info": {
      "name": "python"
    }
  },
  "cells": [
    {
      "cell_type": "code",
      "execution_count": 8,
      "metadata": {
        "id": "whWIyynXMqQ8"
      },
      "outputs": [],
      "source": [
        "import numpy as np\n",
        "import matplotlib.pyplot as plt\n",
        "import string\n",
        "import random\n",
        "import re,os\n",
        "import requests\n",
        "import textwrap"
      ]
    },
    {
      "cell_type": "code",
      "source": [
        "#create a substitution cypher\n",
        "letters1=list(string.ascii_lowercase)\n",
        "letters2=list(string.ascii_lowercase)\n",
        "\n",
        "true_mapping={}\n",
        "\n",
        "random.shuffle(letters2)\n",
        "for k,v in zip(letters1,letters2):\n",
        "  true_mapping[k]=v"
      ],
      "metadata": {
        "id": "gusV0T8GeokJ"
      },
      "execution_count": 9,
      "outputs": []
    },
    {
      "cell_type": "code",
      "source": [
        "# language model\n",
        "## Initialization\n",
        "\n",
        "M=np.ones((26,26))\n",
        "pi=np.zeros((26))\n",
        "\n",
        "def update_transition(ch1,ch2):\n",
        "  i=ord(ch1)-97\n",
        "  j=ord(ch2)-97\n",
        "  M[i,j]+=1\n",
        "\n",
        "def update_pi(ch):\n",
        "  i=ord(ch)-97\n",
        "  pi[i]+=1\n",
        "\n",
        "# get the log-probability of a word /\n",
        "def get_word_prob(word):\n",
        "  i = ord(word[0]) - 97\n",
        "  logp = np.log(pi[i])\n",
        "\n",
        "  for ch in word[1:]:\n",
        "    j = ord(ch) - 97\n",
        "    logp += np.log(M[i, j]) # update prob\n",
        "    i = j # update j\n",
        "\n",
        "  return logp\n",
        "\n",
        "# get the probability of a sequence of words\n",
        "def get_sequence_prob(words):\n",
        "  # if input is a string, split into an array of tokens\n",
        "  if type(words) == str:\n",
        "    words = words.split()\n",
        "\n",
        "  logp = 0\n",
        "  for word in words:\n",
        "    logp += get_word_prob(word)\n",
        "  return logp"
      ],
      "metadata": {
        "id": "fXC6cNayfHuR"
      },
      "execution_count": 10,
      "outputs": []
    },
    {
      "cell_type": "code",
      "source": [
        "# download the file\n",
        "if not os.path.exists('moby_dick.txt'):\n",
        "  print(\"Downloading moby dick...\")\n",
        "  r = requests.get('https://lazyprogrammer.me/course_files/moby_dick.txt')\n",
        "  with open('moby_dick.txt', 'w') as f:\n",
        "    f.write(r.content.decode())"
      ],
      "metadata": {
        "id": "pCvOOPoGjhVI"
      },
      "execution_count": 11,
      "outputs": []
    },
    {
      "cell_type": "code",
      "source": [
        "#Training the Markov Model\n",
        "\n",
        "# for replacing non-alpha characters\n",
        "regex = re.compile('[^a-zA-Z]')\n",
        "\n",
        "# load in words\n",
        "for line in open('moby_dick.txt'):\n",
        "  line = line.rstrip()\n",
        "\n",
        "  # there are blank lines in the file\n",
        "  if line:\n",
        "    line = regex.sub(' ', line) # replace all non-alpha characters with space\n",
        "\n",
        "    # split the tokens in the line and lowercase\n",
        "    tokens = line.lower().split()\n",
        "\n",
        "    for token in tokens:\n",
        "      # update the model\n",
        "\n",
        "      # first letter\n",
        "      ch0 = token[0]\n",
        "      update_pi(ch0)\n",
        "\n",
        "      # other letters\n",
        "      for ch1 in token[1:]:\n",
        "        update_transition(ch0, ch1)\n",
        "        ch0 = ch1\n",
        "\n",
        "# normalize the probabilities\n",
        "pi /= pi.sum()\n",
        "M /= M.sum(axis=1, keepdims=True)"
      ],
      "metadata": {
        "id": "TLPNOOTbjmf_"
      },
      "execution_count": 12,
      "outputs": []
    },
    {
      "cell_type": "code",
      "source": [
        "# encode a message\n",
        "original_message = '''I then lounged down the street and found,\n",
        "as I expected, that there was a mews in a lane which runs down\n",
        "by one wall of the garden. I lent the ostlers a hand in rubbing\n",
        "down their horses, and received in exchange twopence, a glass of\n",
        "half-and-half, two fills of shag tobacco, and as much information\n",
        "as I could desire about Miss Adler, to say nothing of half a dozen\n",
        "other people in the neighbourhood in whom I was not in the least\n",
        "interested, but whose biographies I was compelled to listen to.\n",
        "'''"
      ],
      "metadata": {
        "id": "dgy5am28j66f"
      },
      "execution_count": 13,
      "outputs": []
    },
    {
      "cell_type": "code",
      "source": [
        "#function to encode a message\n",
        "def encode_message(msg):\n",
        "\n",
        "  #lowercase all letters\n",
        "  msg=msg.lower()\n",
        "\n",
        "  #remove all non-alpha characters\n",
        "  msg=regex.sub(' ',msg)\n",
        "\n",
        "  #make the encoded message\n",
        "  coded_msg=[]\n",
        "  for ch in msg:\n",
        "    coded_ch=ch #could be a space\n",
        "    if ch in true_mapping:\n",
        "      coded_ch=true_mapping[ch]\n",
        "    coded_msg.append(coded_ch)\n",
        "  return ''.join(coded_msg)\n",
        "\n",
        "encoded_message = encode_message(original_message)\n",
        "\n",
        "# a function to decode a message\n",
        "def decode_message(msg, word_map):\n",
        "  decoded_msg = []\n",
        "  for ch in msg:\n",
        "    decoded_ch = ch # could just be a space\n",
        "    if ch in word_map:\n",
        "      decoded_ch = word_map[ch]\n",
        "    decoded_msg.append(decoded_ch)\n",
        "\n",
        "  return ''.join(decoded_msg)\n"
      ],
      "metadata": {
        "id": "aITWFr4Qj61R"
      },
      "execution_count": 14,
      "outputs": []
    },
    {
      "cell_type": "code",
      "source": [
        "# run the evolutionary algorithm to decode the message\n",
        "##Initialization\n",
        "dna_pool=[]\n",
        "for _ in range(20):\n",
        "  dna=list(string.ascii_lowercase)\n",
        "  random.shuffle(dna)\n",
        "  dna_pool.append(dna)"
      ],
      "metadata": {
        "id": "p4pQYCHLj6yO"
      },
      "execution_count": 15,
      "outputs": []
    },
    {
      "cell_type": "code",
      "source": [
        "def evolve_offspring(dna_pool,n_children):\n",
        "  # make n_children per offspring\n",
        "  offspring=[]\n",
        "  for dna in dna_pool:\n",
        "    for _ in range(n_children):\n",
        "      copy=dna.copy()\n",
        "      j=np.random.randint(len(copy))\n",
        "      k=np.random.randint(len(copy))\n",
        "\n",
        "      #swap\n",
        "      temp=copy[j]\n",
        "      copy[j]=copy[k]\n",
        "      copy[k]=temp\n",
        "      offspring.append(copy)\n",
        "\n",
        "  return offspring + dna_pool\n"
      ],
      "metadata": {
        "id": "fVjarMMfYmpJ"
      },
      "execution_count": 18,
      "outputs": []
    },
    {
      "cell_type": "code",
      "source": [
        "num_iters=1000\n",
        "scores=np.zeros(num_iters)\n",
        "best_dna = None\n",
        "best_map = None\n",
        "best_score = float('-inf')\n",
        "for i in range(num_iters):\n",
        "  if i>0:\n",
        "    # make offsprings\n",
        "    dna_pool=evolve_offspring(dna_pool,3)\n",
        "\n",
        "  #calculate score for each dna\n",
        "  dna2score={}\n",
        "  for dna in dna_pool:\n",
        "    #create the mapping to decode the cypher\n",
        "    current_map={}\n",
        "    for k,v in zip(letters1,dna):\n",
        "      current_map[k]=v # reverse mapping\n",
        "\n",
        "    decoded_message = decode_message(encoded_message, current_map)\n",
        "    score = get_sequence_prob(decoded_message)\n",
        "\n",
        "    # store it\n",
        "    # needs to be a string to be a dict key\n",
        "    dna2score[''.join(dna)] = score\n",
        "\n",
        "    # record the best so far\n",
        "    if score > best_score:\n",
        "      best_dna = dna\n",
        "      best_map = current_map\n",
        "      best_score = score\n",
        "\n",
        "  # average score for this generation\n",
        "  scores[i] = np.mean(list(dna2score.values()))\n",
        "\n",
        "  # keep the best 5 dna\n",
        "  # also turn them back into list of single chars\n",
        "  sorted_dna = sorted(dna2score.items(), key=lambda x: x[1], reverse=True)\n",
        "  dna_pool = [list(k) for k, v in sorted_dna[:5]]\n",
        "\n",
        "  if i % 200 == 0:\n",
        "    print(\"iter:\", i, \"score:\", scores[i], \"best so far:\", best_score)"
      ],
      "metadata": {
        "colab": {
          "base_uri": "https://localhost:8080/"
        },
        "id": "Dhkjt1YTYmmY",
        "outputId": "96d60f74-9820-42e4-ed54-4b537410a070"
      },
      "execution_count": 19,
      "outputs": [
        {
          "output_type": "stream",
          "name": "stdout",
          "text": [
            "iter: 0 score: -1812.9577772372359 best so far: -1716.845104118035\n",
            "iter: 200 score: -1145.989442747912 best so far: -1060.738626736185\n",
            "iter: 400 score: -1006.9370819386918 best so far: -938.5514200736123\n",
            "iter: 600 score: -1026.0157826001675 best so far: -929.5902922650557\n",
            "iter: 800 score: -1037.2082528382718 best so far: -929.5902922650557\n"
          ]
        }
      ]
    },
    {
      "cell_type": "code",
      "source": [
        "# use best score\n",
        "decoded_message = decode_message(encoded_message, best_map)\n",
        "\n",
        "print(\"LL of decoded message:\", get_sequence_prob(decoded_message))\n",
        "print(\"LL of true message:\", get_sequence_prob(regex.sub(' ', original_message.lower())))\n",
        "\n",
        "\n",
        "# which letters are wrong?\n",
        "for true, v in true_mapping.items():\n",
        "  pred = best_map[v]\n",
        "  if true != pred:\n",
        "    print(\"true: %s, pred: %s\" % (true, pred))"
      ],
      "metadata": {
        "colab": {
          "base_uri": "https://localhost:8080/"
        },
        "id": "tgeeA2-kYmjr",
        "outputId": "895fda8b-cc92-440c-958b-d1320851bf58"
      },
      "execution_count": 20,
      "outputs": [
        {
          "output_type": "stream",
          "name": "stdout",
          "text": [
            "LL of decoded message: -929.5902922650557\n",
            "LL of true message: -933.0312453751817\n",
            "true: k, pred: z\n",
            "true: z, pred: k\n"
          ]
        }
      ]
    },
    {
      "cell_type": "code",
      "source": [
        "# print the final decoded message\n",
        "print(\"Decoded message:\\n\", textwrap.fill(decoded_message))\n",
        "\n",
        "print(\"\\nTrue message:\\n\", original_message)"
      ],
      "metadata": {
        "colab": {
          "base_uri": "https://localhost:8080/"
        },
        "id": "g6ex061zdtMT",
        "outputId": "a1136672-5002-4f1f-a8f3-48b61453e6f8"
      },
      "execution_count": 21,
      "outputs": [
        {
          "output_type": "stream",
          "name": "stdout",
          "text": [
            "Decoded message:\n",
            " i then lounged down the street and found  as i expected  that there\n",
            "was a mews in a lane which runs down by one wall of the garden  i lent\n",
            "the ostlers a hand in rubbing down their horses  and received in\n",
            "exchange twopence  a glass of half and half  two fills of shag tobacco\n",
            "and as much information as i could desire about miss adler  to say\n",
            "nothing of half a doken other people in the neighbourhood in whom i\n",
            "was not in the least interested  but whose biographies i was compelled\n",
            "to listen to\n",
            "\n",
            "True message:\n",
            " I then lounged down the street and found,\n",
            "as I expected, that there was a mews in a lane which runs down\n",
            "by one wall of the garden. I lent the ostlers a hand in rubbing\n",
            "down their horses, and received in exchange twopence, a glass of\n",
            "half-and-half, two fills of shag tobacco, and as much information\n",
            "as I could desire about Miss Adler, to say nothing of half a dozen\n",
            "other people in the neighbourhood in whom I was not in the least\n",
            "interested, but whose biographies I was compelled to listen to.\n",
            "\n"
          ]
        }
      ]
    },
    {
      "cell_type": "code",
      "source": [
        "# As clearly visible dozen is read as doken.\n",
        "plt.plot(scores)\n",
        "plt.show()"
      ],
      "metadata": {
        "colab": {
          "base_uri": "https://localhost:8080/",
          "height": 430
        },
        "id": "EgV4Z8cneJTS",
        "outputId": "c2ff4969-1013-4785-8719-1f320ef7a4d8"
      },
      "execution_count": 22,
      "outputs": [
        {
          "output_type": "display_data",
          "data": {
            "text/plain": [
              "<Figure size 640x480 with 1 Axes>"
            ],
            "image/png": "[encoded data removed]"
          },
          "metadata": {}
        }
      ]
    }
  ]
}